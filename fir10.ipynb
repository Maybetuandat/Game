{
 "nbformat": 4,
 "nbformat_minor": 0,
 "metadata": {
  "colab": {
   "provenance": []
  },
  "kernelspec": {
   "name": "python3",
   "language": "python",
   "display_name": "Python 3 (ipykernel)"
  },
  "language_info": {
   "name": "python"
  }
 },
 "cells": [
  {
   "cell_type": "code",
   "execution_count": 1,
   "metadata": {
    "colab": {
     "base_uri": "https://localhost:8080/"
    },
    "id": "iA-2tBjQaRvb",
    "outputId": "cbb47917-9e77-4800-d161-9feca8de55ba",
    "ExecuteTime": {
     "end_time": "2023-10-01T08:58:15.825996600Z",
     "start_time": "2023-10-01T08:58:15.707688100Z"
    }
   },
   "outputs": [],
   "source": [
    "# from keras.datasets import cifar10\n",
    "# import matplotlib.pyplot as plt\n",
    "# \n",
    "# (train_X,train_Y),(test_X,test_Y)=cifar10.load_data()"
   ]
  },
  {
   "cell_type": "code",
   "source": [
    "# n=6\n",
    "# plt.figure(figsize=(20,10))\n",
    "# for i in range(n):\n",
    "#   plt.subplot(330+1+i)\n",
    "#   plt.imshow(train_X[i])\n",
    "# plt.show()"
   ],
   "metadata": {
    "colab": {
     "base_uri": "https://localhost:8080/",
     "height": 438
    },
    "id": "R9Hs5jN5a3T8",
    "outputId": "0242100d-5baf-4336-f0c6-4cabd33695f9",
    "ExecuteTime": {
     "end_time": "2023-10-01T08:58:15.825996600Z",
     "start_time": "2023-10-01T08:58:15.715065700Z"
    }
   },
   "execution_count": 2,
   "outputs": []
  },
  {
   "cell_type": "code",
   "source": [
    "# from keras.models import Sequential\n",
    "# from keras.layers import Dense\n",
    "# from keras.layers import Dropout\n",
    "# from keras.layers import Flatten\n",
    "# from keras.constraints import MaxNorm\n",
    "# from keras.optimizers import SGD\n",
    "# from tensorflow.keras.layers import Conv2D, MaxPooling2D\n",
    "# from tensorflow.keras.utils import to_categorical"
   ],
   "metadata": {
    "id": "NVxhIWEya6kL",
    "ExecuteTime": {
     "end_time": "2023-10-01T08:58:15.827037200Z",
     "start_time": "2023-10-01T08:58:15.721951200Z"
    }
   },
   "execution_count": 3,
   "outputs": []
  },
  {
   "cell_type": "code",
   "source": [
    "# train_x=train_X.astype('float32')\n",
    "# test_X=test_X.astype('float32')\n",
    "# \n",
    "# train_X=train_X/255.0\n",
    "# test_X=test_X/255.0"
   ],
   "metadata": {
    "id": "nEHGTVMpa_0C",
    "ExecuteTime": {
     "end_time": "2023-10-01T08:58:15.827037200Z",
     "start_time": "2023-10-01T08:58:15.725602300Z"
    }
   },
   "execution_count": 4,
   "outputs": []
  },
  {
   "cell_type": "code",
   "source": [
    "# train_Y=to_categorical(train_Y)\n",
    "# test_Y=to_categorical(test_Y)\n",
    "# num_classes=test_Y.shape[1]"
   ],
   "metadata": {
    "id": "m3FhCtRCbfOM",
    "ExecuteTime": {
     "end_time": "2023-10-01T08:58:15.827037200Z",
     "start_time": "2023-10-01T08:58:15.733016900Z"
    }
   },
   "execution_count": 5,
   "outputs": []
  },
  {
   "cell_type": "code",
   "source": [
    "# model=Sequential()\n",
    "# model.add(Conv2D(32,(3,3),input_shape=(32,32,3),\n",
    "#     padding='same',activation='relu',\n",
    "#     kernel_constraint=MaxNorm(3)))\n",
    "# model.add(Dropout(0.2))\n",
    "# model.add(Conv2D(32,(3,3),activation='relu',padding='same',kernel_constraint=MaxNorm(3)))\n",
    "# model.add(MaxPooling2D(pool_size=(2,2)))\n",
    "# model.add(Flatten())\n",
    "# model.add(Dense(512,activation='relu',kernel_constraint=MaxNorm(3)))\n",
    "# model.add(Dropout(0.5))\n",
    "# model.add(Dense(num_classes, activation='softmax'))"
   ],
   "metadata": {
    "id": "Iv1rOPmzbkys",
    "ExecuteTime": {
     "end_time": "2023-10-01T08:58:15.827037200Z",
     "start_time": "2023-10-01T08:58:15.739244600Z"
    }
   },
   "execution_count": 6,
   "outputs": []
  },
  {
   "cell_type": "code",
   "source": [
    "# from tensorflow.keras.optimizers import SGD\n",
    "# \n",
    "# # Sử dụng learning_rate thay vì lr và loại bỏ decay\n",
    "# sgd = SGD(learning_rate=0.01, momentum=0.9, nesterov=False)\n",
    "# \n",
    "# model.compile(loss='categorical_crossentropy', optimizer=sgd, metrics=['accuracy'])\n"
   ],
   "metadata": {
    "id": "afWD8aULcUip",
    "ExecuteTime": {
     "end_time": "2023-10-01T08:58:15.827037200Z",
     "start_time": "2023-10-01T08:58:15.743301200Z"
    }
   },
   "execution_count": 7,
   "outputs": []
  },
  {
   "cell_type": "code",
   "source": [
    "#model.summary()"
   ],
   "metadata": {
    "colab": {
     "base_uri": "https://localhost:8080/"
    },
    "id": "CjKXI4ixb3ML",
    "outputId": "97257da7-c7a1-43e1-a972-cdf2dd074ec0",
    "ExecuteTime": {
     "end_time": "2023-10-01T08:58:15.827037200Z",
     "start_time": "2023-10-01T08:58:15.752673Z"
    }
   },
   "execution_count": 8,
   "outputs": []
  },
  {
   "cell_type": "code",
   "source": [
    "#model.fit(train_X,train_Y, validation_data=(test_X,test_Y), epochs=2,batch_size=32)"
   ],
   "metadata": {
    "colab": {
     "base_uri": "https://localhost:8080/"
    },
    "id": "r3iwwunYb8Ab",
    "outputId": "47e20ca4-c88c-426f-e092-3111de174ee7",
    "ExecuteTime": {
     "end_time": "2023-10-01T08:58:15.828610300Z",
     "start_time": "2023-10-01T08:58:15.757102Z"
    }
   },
   "execution_count": 9,
   "outputs": []
  },
  {
   "cell_type": "code",
   "source": [
    "#_,acc=model.evaluate(test_X,test_Y)\n",
    "#print(acc*100)"
   ],
   "metadata": {
    "colab": {
     "base_uri": "https://localhost:8080/"
    },
    "id": "1EWlBcyjcedT",
    "outputId": "8e2aecbe-aa32-43d2-f985-8c62baf78a28",
    "ExecuteTime": {
     "end_time": "2023-10-01T08:58:15.828610300Z",
     "start_time": "2023-10-01T08:58:15.764360400Z"
    }
   },
   "execution_count": 10,
   "outputs": []
  },
  {
   "cell_type": "code",
   "source": [
    "#model.save(\"image_classification_20epoch.h5\")"
   ],
   "metadata": {
    "colab": {
     "base_uri": "https://localhost:8080/"
    },
    "id": "6sy3P_etchKC",
    "outputId": "6ac5af32-3352-4baf-f678-6ebf240578aa",
    "ExecuteTime": {
     "end_time": "2023-10-01T08:58:15.828610300Z",
     "start_time": "2023-10-01T08:58:15.771040100Z"
    }
   },
   "execution_count": 11,
   "outputs": []
  },
  {
   "cell_type": "code",
   "source": [
    "%run gui.py"
   ],
   "metadata": {
    "id": "pSyXwceAcu2i",
    "ExecuteTime": {
     "end_time": "2023-10-01T08:58:54.420944700Z",
     "start_time": "2023-10-01T08:58:15.777754300Z"
    }
   },
   "execution_count": 12,
   "outputs": [
    {
     "name": "stdout",
     "output_type": "stream",
     "text": [
      "1/1 [==============================] - 0s 400ms/step\n"
     ]
    },
    {
     "name": "stderr",
     "output_type": "stream",
     "text": [
      "Exception in Tkinter callback\n",
      "Traceback (most recent call last):\n",
      "  File \"D:\\Exercise\\Lib\\tkinter\\__init__.py\", line 1948, in __call__\n",
      "    return self.func(*args)\n",
      "           ^^^^^^^^^^^^^^^^\n",
      "  File \"D:\\BTLPy\\gui.py\", line 57, in <lambda>\n",
      "    command=lambda: classify(file_path),padx=10,pady=5)\n",
      "                    ^^^^^^^^^^^^^^^^^^^\n",
      "  File \"D:\\BTLPy\\gui.py\", line 51, in classify\n",
      "    sign = classes[predicted_class]\n",
      "           ~~~~~~~^^^^^^^^^^^^^^^^^\n",
      "KeyError: 86\n"
     ]
    },
    {
     "name": "stdout",
     "output_type": "stream",
     "text": [
      "1/1 [==============================] - 0s 20ms/step\n"
     ]
    },
    {
     "name": "stderr",
     "output_type": "stream",
     "text": [
      "Exception in Tkinter callback\n",
      "Traceback (most recent call last):\n",
      "  File \"D:\\Exercise\\Lib\\tkinter\\__init__.py\", line 1948, in __call__\n",
      "    return self.func(*args)\n",
      "           ^^^^^^^^^^^^^^^^\n",
      "  File \"D:\\BTLPy\\gui.py\", line 57, in <lambda>\n",
      "    command=lambda: classify(file_path),padx=10,pady=5)\n",
      "                    ^^^^^^^^^^^^^^^^^^^\n",
      "  File \"D:\\BTLPy\\gui.py\", line 51, in classify\n",
      "    sign = classes[predicted_class]\n",
      "           ~~~~~~~^^^^^^^^^^^^^^^^^\n",
      "KeyError: 86\n"
     ]
    },
    {
     "name": "stdout",
     "output_type": "stream",
     "text": [
      "1/1 [==============================] - 0s 22ms/step\n",
      "1/1 [==============================] - ETA: 0s"
     ]
    },
    {
     "name": "stderr",
     "output_type": "stream",
     "text": [
      "Exception in Tkinter callback\n",
      "Traceback (most recent call last):\n",
      "  File \"D:\\Exercise\\Lib\\tkinter\\__init__.py\", line 1948, in __call__\n",
      "    return self.func(*args)\n",
      "           ^^^^^^^^^^^^^^^^\n",
      "  File \"D:\\BTLPy\\gui.py\", line 57, in <lambda>\n",
      "    command=lambda: classify(file_path),padx=10,pady=5)\n",
      "                    ^^^^^^^^^^^^^^^^^^^\n",
      "  File \"D:\\BTLPy\\gui.py\", line 51, in classify\n",
      "    sign = classes[predicted_class]\n",
      "           ~~~~~~~^^^^^^^^^^^^^^^^^\n",
      "KeyError: 86\n"
     ]
    },
    {
     "name": "stdout",
     "output_type": "stream",
     "text": [
      "1/1 [==============================] - 0s 29ms/step\n",
      "1/1 [==============================] - 0s 15ms/step\n"
     ]
    },
    {
     "name": "stderr",
     "output_type": "stream",
     "text": [
      "Exception in Tkinter callback\n",
      "Traceback (most recent call last):\n",
      "  File \"D:\\Exercise\\Lib\\tkinter\\__init__.py\", line 1948, in __call__\n",
      "    return self.func(*args)\n",
      "           ^^^^^^^^^^^^^^^^\n",
      "  File \"D:\\BTLPy\\gui.py\", line 57, in <lambda>\n",
      "    command=lambda: classify(file_path),padx=10,pady=5)\n",
      "                    ^^^^^^^^^^^^^^^^^^^\n",
      "  File \"D:\\BTLPy\\gui.py\", line 51, in classify\n",
      "    sign = classes[predicted_class]\n",
      "           ~~~~~~~^^^^^^^^^^^^^^^^^\n",
      "KeyError: 86\n",
      "Exception in Tkinter callback\n",
      "Traceback (most recent call last):\n",
      "  File \"D:\\Exercise\\Lib\\tkinter\\__init__.py\", line 1948, in __call__\n",
      "    return self.func(*args)\n",
      "           ^^^^^^^^^^^^^^^^\n",
      "  File \"D:\\BTLPy\\gui.py\", line 57, in <lambda>\n",
      "    command=lambda: classify(file_path),padx=10,pady=5)\n",
      "                    ^^^^^^^^^^^^^^^^^^^\n",
      "  File \"D:\\BTLPy\\gui.py\", line 51, in classify\n",
      "    sign = classes[predicted_class]\n",
      "           ~~~~~~~^^^^^^^^^^^^^^^^^\n",
      "KeyError: 86\n"
     ]
    },
    {
     "name": "stdout",
     "output_type": "stream",
     "text": [
      "1/1 [==============================] - 0s 21ms/step\n",
      "1/1 [==============================] - 0s 20ms/step\n"
     ]
    },
    {
     "name": "stderr",
     "output_type": "stream",
     "text": [
      "Exception in Tkinter callback\n",
      "Traceback (most recent call last):\n",
      "  File \"D:\\Exercise\\Lib\\tkinter\\__init__.py\", line 1948, in __call__\n",
      "    return self.func(*args)\n",
      "           ^^^^^^^^^^^^^^^^\n",
      "  File \"D:\\BTLPy\\gui.py\", line 57, in <lambda>\n",
      "    command=lambda: classify(file_path),padx=10,pady=5)\n",
      "                    ^^^^^^^^^^^^^^^^^^^\n",
      "  File \"D:\\BTLPy\\gui.py\", line 51, in classify\n",
      "    sign = classes[predicted_class]\n",
      "           ~~~~~~~^^^^^^^^^^^^^^^^^\n",
      "KeyError: 86\n",
      "Exception in Tkinter callback\n",
      "Traceback (most recent call last):\n",
      "  File \"D:\\Exercise\\Lib\\tkinter\\__init__.py\", line 1948, in __call__\n",
      "    return self.func(*args)\n",
      "           ^^^^^^^^^^^^^^^^\n",
      "  File \"D:\\BTLPy\\gui.py\", line 57, in <lambda>\n",
      "    command=lambda: classify(file_path),padx=10,pady=5)\n",
      "                    ^^^^^^^^^^^^^^^^^^^\n",
      "  File \"D:\\BTLPy\\gui.py\", line 51, in classify\n",
      "    sign = classes[predicted_class]\n",
      "           ~~~~~~~^^^^^^^^^^^^^^^^^\n",
      "KeyError: 86\n"
     ]
    },
    {
     "name": "stdout",
     "output_type": "stream",
     "text": [
      "1/1 [==============================] - 0s 21ms/step\n",
      "1/1 [==============================] - 0s 28ms/step\n"
     ]
    },
    {
     "name": "stderr",
     "output_type": "stream",
     "text": [
      "Exception in Tkinter callback\n",
      "Traceback (most recent call last):\n",
      "  File \"D:\\Exercise\\Lib\\tkinter\\__init__.py\", line 1948, in __call__\n",
      "    return self.func(*args)\n",
      "           ^^^^^^^^^^^^^^^^\n",
      "  File \"D:\\BTLPy\\gui.py\", line 57, in <lambda>\n",
      "    command=lambda: classify(file_path),padx=10,pady=5)\n",
      "                    ^^^^^^^^^^^^^^^^^^^\n",
      "  File \"D:\\BTLPy\\gui.py\", line 51, in classify\n",
      "    sign = classes[predicted_class]\n",
      "           ~~~~~~~^^^^^^^^^^^^^^^^^\n",
      "KeyError: 86\n",
      "Exception in Tkinter callback\n",
      "Traceback (most recent call last):\n",
      "  File \"D:\\Exercise\\Lib\\tkinter\\__init__.py\", line 1948, in __call__\n",
      "    return self.func(*args)\n",
      "           ^^^^^^^^^^^^^^^^\n",
      "  File \"D:\\BTLPy\\gui.py\", line 57, in <lambda>\n",
      "    command=lambda: classify(file_path),padx=10,pady=5)\n",
      "                    ^^^^^^^^^^^^^^^^^^^\n",
      "  File \"D:\\BTLPy\\gui.py\", line 51, in classify\n",
      "    sign = classes[predicted_class]\n",
      "           ~~~~~~~^^^^^^^^^^^^^^^^^\n",
      "KeyError: 86\n"
     ]
    },
    {
     "name": "stdout",
     "output_type": "stream",
     "text": [
      "1/1 [==============================] - 0s 27ms/step\n",
      "1/1 [==============================] - 0s 11ms/step\n"
     ]
    },
    {
     "name": "stderr",
     "output_type": "stream",
     "text": [
      "Exception in Tkinter callback\n",
      "Traceback (most recent call last):\n",
      "  File \"D:\\Exercise\\Lib\\tkinter\\__init__.py\", line 1948, in __call__\n",
      "    return self.func(*args)\n",
      "           ^^^^^^^^^^^^^^^^\n",
      "  File \"D:\\BTLPy\\gui.py\", line 57, in <lambda>\n",
      "    command=lambda: classify(file_path),padx=10,pady=5)\n",
      "                    ^^^^^^^^^^^^^^^^^^^\n",
      "  File \"D:\\BTLPy\\gui.py\", line 51, in classify\n",
      "    sign = classes[predicted_class]\n",
      "           ~~~~~~~^^^^^^^^^^^^^^^^^\n",
      "KeyError: 86\n",
      "Exception in Tkinter callback\n",
      "Traceback (most recent call last):\n",
      "  File \"D:\\Exercise\\Lib\\tkinter\\__init__.py\", line 1948, in __call__\n",
      "    return self.func(*args)\n",
      "           ^^^^^^^^^^^^^^^^\n",
      "  File \"D:\\BTLPy\\gui.py\", line 57, in <lambda>\n",
      "    command=lambda: classify(file_path),padx=10,pady=5)\n",
      "                    ^^^^^^^^^^^^^^^^^^^\n",
      "  File \"D:\\BTLPy\\gui.py\", line 51, in classify\n",
      "    sign = classes[predicted_class]\n",
      "           ~~~~~~~^^^^^^^^^^^^^^^^^\n",
      "KeyError: 86\n"
     ]
    },
    {
     "name": "stdout",
     "output_type": "stream",
     "text": [
      "1/1 [==============================] - 0s 21ms/step\n",
      "1/1 [==============================] - 0s 11ms/step\n"
     ]
    },
    {
     "name": "stderr",
     "output_type": "stream",
     "text": [
      "Exception in Tkinter callback\n",
      "Traceback (most recent call last):\n",
      "  File \"D:\\Exercise\\Lib\\tkinter\\__init__.py\", line 1948, in __call__\n",
      "    return self.func(*args)\n",
      "           ^^^^^^^^^^^^^^^^\n",
      "  File \"D:\\BTLPy\\gui.py\", line 57, in <lambda>\n",
      "    command=lambda: classify(file_path),padx=10,pady=5)\n",
      "                    ^^^^^^^^^^^^^^^^^^^\n",
      "  File \"D:\\BTLPy\\gui.py\", line 51, in classify\n",
      "    sign = classes[predicted_class]\n",
      "           ~~~~~~~^^^^^^^^^^^^^^^^^\n",
      "KeyError: 86\n",
      "Exception in Tkinter callback\n",
      "Traceback (most recent call last):\n",
      "  File \"D:\\Exercise\\Lib\\tkinter\\__init__.py\", line 1948, in __call__\n",
      "    return self.func(*args)\n",
      "           ^^^^^^^^^^^^^^^^\n",
      "  File \"D:\\BTLPy\\gui.py\", line 57, in <lambda>\n",
      "    command=lambda: classify(file_path),padx=10,pady=5)\n",
      "                    ^^^^^^^^^^^^^^^^^^^\n",
      "  File \"D:\\BTLPy\\gui.py\", line 51, in classify\n",
      "    sign = classes[predicted_class]\n",
      "           ~~~~~~~^^^^^^^^^^^^^^^^^\n",
      "KeyError: 86\n"
     ]
    },
    {
     "name": "stdout",
     "output_type": "stream",
     "text": [
      "1/1 [==============================] - 0s 21ms/step\n"
     ]
    },
    {
     "name": "stderr",
     "output_type": "stream",
     "text": [
      "Exception in Tkinter callback\n",
      "Traceback (most recent call last):\n",
      "  File \"D:\\Exercise\\Lib\\tkinter\\__init__.py\", line 1948, in __call__\n",
      "    return self.func(*args)\n",
      "           ^^^^^^^^^^^^^^^^\n",
      "  File \"D:\\BTLPy\\gui.py\", line 57, in <lambda>\n",
      "    command=lambda: classify(file_path),padx=10,pady=5)\n",
      "                    ^^^^^^^^^^^^^^^^^^^\n",
      "  File \"D:\\BTLPy\\gui.py\", line 51, in classify\n",
      "    sign = classes[predicted_class]\n",
      "           ~~~~~~~^^^^^^^^^^^^^^^^^\n",
      "KeyError: 86\n"
     ]
    }
   ]
  },
  {
   "cell_type": "code",
   "execution_count": 13,
   "outputs": [],
   "source": [
    "# results={\n",
    "#    0:'aeroplane',\n",
    "#    1:'automobile',\n",
    "#    2:'bird',\n",
    "#    3:'cat',\n",
    "#    4:'deer',\n",
    "#    5:'dog',\n",
    "#    6:'frog',\n",
    "#    7:'horse',\n",
    "#    8:'ship',\n",
    "#    9:'truck'\n",
    "# }\n",
    "# from PIL import Image\n",
    "# import numpy as np\n",
    "# im=Image.open(\"/content/n02115913_5593.jpg\")\n",
    "# # the input image is required to be in the shape of dataset, i.e (32,32,3)\n",
    "# \n",
    "# im=im.resize((32,32))\n",
    "# im = np.expand_dims(im, axis=0)\n",
    "# im = np.array(im)\n",
    "# pred = model.predict(im)\n",
    "# predicted_class = np.argmax(pred)\n",
    "# \n",
    "# print(predicted_class, results[predicted_class])\n"
   ],
   "metadata": {
    "collapsed": false,
    "ExecuteTime": {
     "end_time": "2023-10-01T08:58:54.438352900Z",
     "start_time": "2023-10-01T08:58:54.424389500Z"
    }
   }
  },
  {
   "cell_type": "code",
   "execution_count": 13,
   "outputs": [],
   "source": [],
   "metadata": {
    "collapsed": false,
    "ExecuteTime": {
     "end_time": "2023-10-01T08:58:54.439355600Z",
     "start_time": "2023-10-01T08:58:54.432840100Z"
    }
   }
  }
 ]
}
